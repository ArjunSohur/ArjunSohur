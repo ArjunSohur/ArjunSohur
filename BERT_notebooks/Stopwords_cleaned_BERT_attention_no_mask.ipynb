{
  "nbformat": 4,
  "nbformat_minor": 0,
  "metadata": {
    "colab": {
      "provenance": [],
      "gpuType": "T4",
      "authorship_tag": "ABX9TyPvlf8UcvvdJTDBII8rLMEU",
      "include_colab_link": true
    },
    "kernelspec": {
      "name": "python3",
      "display_name": "Python 3"
    },
    "language_info": {
      "name": "python"
    }
  },
  "cells": [
    {
      "cell_type": "markdown",
      "metadata": {
        "id": "view-in-github",
        "colab_type": "text"
      },
      "source": [
        "<a href=\"https://colab.research.google.com/github/ArjunSohur/ArjunSohur/blob/main/BERT_notebooks/Stopwords_cleaned_BERT_attention_no_mask.ipynb\" target=\"_parent\"><img src=\"https://colab.research.google.com/assets/colab-badge.svg\" alt=\"Open In Colab\"/></a>"
      ]
    },
    {
      "cell_type": "markdown",
      "source": [
        "Attention is essentially how much a model \"pays attention to\" certain words, which reveals their importance.  In this program, I am trying to visualize and come up with a method to determine which sentences are more important than others."
      ],
      "metadata": {
        "id": "GHVQDkZVm5SS"
      }
    },
    {
      "cell_type": "code",
      "execution_count": 76,
      "metadata": {
        "id": "qCL556tGZ7lH"
      },
      "outputs": [],
      "source": [
        "pip install transformers"
      ]
    },
    {
      "cell_type": "code",
      "source": [
        "pip install seaborn"
      ],
      "metadata": {
        "id": "ErKMPZA_FACR"
      },
      "execution_count": null,
      "outputs": []
    },
    {
      "cell_type": "code",
      "source": [
        "pip install matplotlib"
      ],
      "metadata": {
        "id": "nMqvYRW6FCwO"
      },
      "execution_count": 78,
      "outputs": []
    },
    {
      "cell_type": "code",
      "source": [
        "pip install nltk"
      ],
      "metadata": {
        "id": "l_K3evoWpCC2"
      },
      "execution_count": 79,
      "outputs": []
    },
    {
      "cell_type": "code",
      "source": [
        "pip install sklearn"
      ],
      "metadata": {
        "id": "wZcyEf_5XnAs"
      },
      "execution_count": null,
      "outputs": []
    },
    {
      "cell_type": "code",
      "source": [
        "# Importing libraries for usage\n",
        "import torch\n",
        "from transformers import BertTokenizer, BertModel, BertForMaskedLM\n",
        "import matplotlib.pyplot as plt\n",
        "import seaborn as sns\n",
        "import numpy as np\n",
        "import nltk\n",
        "nltk.download('punkt')\n",
        "from sklearn.preprocessing import MinMaxScaler\n",
        "\n",
        "from nltk.corpus import stopwords\n",
        "nltk.download('stopwords')\n",
        "\n",
        "import pandas as pd\n",
        "\n",
        "import re\n",
        "import matplotlib.colors as mcolors"
      ],
      "metadata": {
        "id": "c5zTFBBob2SX",
        "colab": {
          "base_uri": "https://localhost:8080/"
        },
        "outputId": "ddc172ba-984a-415d-f224-351aa2c714dc"
      },
      "execution_count": 437,
      "outputs": [
        {
          "output_type": "stream",
          "name": "stderr",
          "text": [
            "[nltk_data] Downloading package punkt to /root/nltk_data...\n",
            "[nltk_data]   Package punkt is already up-to-date!\n",
            "[nltk_data] Downloading package stopwords to /root/nltk_data...\n",
            "[nltk_data]   Package stopwords is already up-to-date!\n"
          ]
        }
      ]
    },
    {
      "cell_type": "code",
      "source": [
        "# BERT is a transformer based model\n",
        "# https://en.wikipedia.org/wiki/BERT_(language_model)\n",
        "model_name = \"bert-base-uncased\"\n",
        "model = BertModel.from_pretrained(model_name, output_attentions=True)\n",
        "\n",
        "# A tokenizer splits the text into tokens, which is how the BERT model understands words\n",
        "tokenizer = BertTokenizer.from_pretrained('bert-base-uncased')"
      ],
      "metadata": {
        "id": "gNEaNyp9b7kb"
      },
      "execution_count": null,
      "outputs": []
    },
    {
      "cell_type": "markdown",
      "source": [
        "## Rerun for testing purposes"
      ],
      "metadata": {
        "id": "sqtPFcFBcD6E"
      }
    },
    {
      "cell_type": "code",
      "source": [
        "text = \"Earlier in the day, the Boulder weather service office warned that “We are still in the 'loaded gun' scenario of having tremendous instability,” which could lead to severe weather throughout the evening.\"\n",
        "\n",
        "print(text)"
      ],
      "metadata": {
        "id": "wont6m7q6iCA",
        "colab": {
          "base_uri": "https://localhost:8080/"
        },
        "outputId": "b37afcf9-48c2-4a6b-d0f7-e2043932df1c"
      },
      "execution_count": 660,
      "outputs": [
        {
          "output_type": "stream",
          "name": "stdout",
          "text": [
            "Earlier in the day, the Boulder weather service office warned that “We are still in the 'loaded gun' scenario of having tremendous instability,” which could lead to severe weather throughout the evening.\n"
          ]
        }
      ]
    },
    {
      "cell_type": "code",
      "source": [
        "# 0 as False 1 as True\n",
        "# I was messing around to see if the results were better if there wasn't punctuation\n",
        "# It turns out, the model performs better when there is (based on qualitative tests)\n",
        "remove_punc = 1\n",
        "remove_stop = 1"
      ],
      "metadata": {
        "id": "UwXtHpb6hi27"
      },
      "execution_count": 661,
      "outputs": []
    },
    {
      "cell_type": "code",
      "source": [
        "# Defining a primitave punctuation removal method\n",
        "def remove_punctuation(text):\n",
        "    # Not perfect, but a small catch function; does not handle edge cases, but gets rid of those chars\n",
        "    punctuation_marks = r'[.,;:\\'-]'\n",
        "\n",
        "    # Replace the punctuation marks with an empty string using regex (re.sub)\n",
        "    processed_text = re.sub(punctuation_marks, '', text)\n",
        "\n",
        "    return processed_text\n",
        "\n",
        "def remove_stopwords(text):\n",
        "    words = nltk.word_tokenize(text)\n",
        "\n",
        "    stopwords_list = set(stopwords.words(\"english\"))\n",
        "\n",
        "    other_stopwords = [\"said\", \"told\", \"says\"]\n",
        "\n",
        "    stopwords_list.update(other_stopwords)\n",
        "\n",
        "    filtered_words = [word for word in words if word.lower() not in stopwords_list]\n",
        "\n",
        "    filtered_sentence = \" \".join(filtered_words)\n",
        "\n",
        "    return filtered_sentence\n"
      ],
      "metadata": {
        "id": "X1JNqr_lUt9A"
      },
      "execution_count": 662,
      "outputs": []
    },
    {
      "cell_type": "code",
      "source": [
        "# Calling the function to\n",
        "if remove_stop:\n",
        "  text = remove_stopwords(text)\n",
        "\n",
        "if remove_punc:\n",
        "  text = remove_punctuation(text)\n",
        "\n",
        "if remove_stop:\n",
        "  text = remove_stopwords(text)\n",
        "\n",
        "print(text)"
      ],
      "metadata": {
        "id": "DtXx2j95Y4TA",
        "colab": {
          "base_uri": "https://localhost:8080/"
        },
        "outputId": "4eee93a0-0b51-4f1b-f402-affc4ea7cd1d"
      },
      "execution_count": 663,
      "outputs": [
        {
          "output_type": "stream",
          "name": "stdout",
          "text": [
            "Earlier day Boulder weather service office warned “ still loaded gun scenario tremendous instability ” could lead severe weather throughout evening\n"
          ]
        }
      ]
    },
    {
      "cell_type": "code",
      "source": [
        "inputs = tokenizer.encode_plus(text, add_special_tokens=False, return_tensors=\"pt\")\n",
        "input_ids = inputs[\"input_ids\"]\n",
        "input_ids = torch.cat((torch.tensor([[101]]), input_ids), 1)\n",
        "\n",
        "\n",
        "print(input_ids)"
      ],
      "metadata": {
        "id": "AbjxVTkOqaUx",
        "colab": {
          "base_uri": "https://localhost:8080/"
        },
        "outputId": "e0abfa39-f369-44a3-de2c-48b3ae45e10f"
      },
      "execution_count": 664,
      "outputs": [
        {
          "output_type": "stream",
          "name": "stdout",
          "text": [
            "tensor([[  101,  3041,  2154, 13264,  4633,  2326,  2436,  7420,  1523,  2145,\n",
            "          8209,  3282, 11967, 14388, 18549,  1524,  2071,  2599,  5729,  4633,\n",
            "          2802,  3944]])\n"
          ]
        }
      ]
    },
    {
      "cell_type": "code",
      "source": [
        "# These lines of code take the token ids and covert it back to readable language so that I can plot them on the graph\n",
        "# It uses a lot of library functions\n",
        "input_ids_list = input_ids.squeeze().tolist()\n",
        "decoded_tokens = tokenizer.decode(input_ids_list)\n",
        "\n",
        "tokens = tokenizer.tokenize(decoded_tokens)"
      ],
      "metadata": {
        "id": "eCXME3xiwCzQ"
      },
      "execution_count": 665,
      "outputs": []
    },
    {
      "cell_type": "code",
      "source": [
        "# This one line does a lot, but it essentially runs the model\n",
        "outputs = model(input_ids)\n",
        "\n",
        "# Attention weights for the last layer\n",
        "# In python, you can do negatice indexing from the back of a list\n",
        "attention_weights = outputs.attentions[-1]"
      ],
      "metadata": {
        "id": "IKzq7VazqzyI"
      },
      "execution_count": 666,
      "outputs": []
    },
    {
      "cell_type": "code",
      "source": [
        "# BERT actually has multiple calculation of attention weights, so I'm taking their average here\n",
        "mean_attention_weights = torch.mean(attention_weights.squeeze(dim=0), dim=0, )"
      ],
      "metadata": {
        "id": "92UbY5-grKgk"
      },
      "execution_count": 667,
      "outputs": []
    },
    {
      "cell_type": "code",
      "source": [
        "# Normalizing weights for cleaner data\n",
        "normalized_attention_weights = torch.softmax(mean_attention_weights, dim=1).detach().numpy()"
      ],
      "metadata": {
        "id": "sSqSUQq5t-LR"
      },
      "execution_count": 668,
      "outputs": []
    },
    {
      "cell_type": "code",
      "source": [
        "# print graph\n",
        "colors = [\"white\", \"black\"]\n",
        "cmap = mcolors.LinearSegmentedColormap.from_list(\"custom_colormap\", colors)\n",
        "\n",
        "# \"tab10\"\n",
        "plt.figure(figsize=(12, 8))\n",
        "plt.imshow(normalized_attention_weights, cmap=cmap, interpolation=\"nearest\")\n",
        "plt.xticks(range(len(tokens)), tokens, rotation=45)\n",
        "plt.yticks(range(len(tokens)), tokens)\n",
        "plt.xlabel(\"Key\")\n",
        "plt.ylabel(\"Query\")\n",
        "plt.title(\"Attention Weights\")\n",
        "plt.colorbar()\n",
        "plt.show()"
      ],
      "metadata": {
        "colab": {
          "base_uri": "https://localhost:8080/",
          "height": 773
        },
        "id": "Scu_Nk2fq-y1",
        "outputId": "3fe72e10-2c45-49b4-a800-4e02a5c0b815"
      },
      "execution_count": 669,
      "outputs": [
        {
          "output_type": "display_data",
          "data": {
            "text/plain": [
              "<Figure size 1200x800 with 2 Axes>"
            ],
            "image/png": "[encoded data removed]"
          },
          "metadata": {}
        }
      ]
    },
    {
      "cell_type": "code",
      "source": [
        "cls_df = pd.DataFrame(normalized_attention_weights[:][0], index=tokens)\n",
        "\n",
        "scalar = MinMaxScaler()\n",
        "\n",
        "cls_df.columns = [\"vals\"]\n",
        "\n",
        "cls_df_norm = pd.DataFrame(scaler.fit_transform(cls_df), columns=[\"vals\"], index=tokens)\n",
        "ordered_cls = cls_df_norm.sort_values(\"vals\", ascending=False)\n",
        "\n",
        "ordered_cls"
      ],
      "metadata": {
        "colab": {
          "base_uri": "https://localhost:8080/",
          "height": 739
        },
        "id": "Gmrk7BOtbBk5",
        "outputId": "908000b7-5ce1-4835-ae98-5e0ee6a9fc56"
      },
      "execution_count": 670,
      "outputs": [
        {
          "output_type": "execute_result",
          "data": {
            "text/plain": [
              "                 vals\n",
              "[CLS]        1.000000\n",
              "warned       0.311621\n",
              "boulder      0.169494\n",
              "evening      0.154094\n",
              "gun          0.151842\n",
              "day          0.130472\n",
              "could        0.126475\n",
              "weather      0.124942\n",
              "weather      0.120672\n",
              "scenario     0.108510\n",
              "office       0.092221\n",
              "earlier      0.089822\n",
              "still        0.086202\n",
              "“            0.060281\n",
              "throughout   0.059795\n",
              "instability  0.059056\n",
              "loaded       0.056904\n",
              "lead         0.047233\n",
              "tremendous   0.041501\n",
              "service      0.040619\n",
              "severe       0.017367\n",
              "”            0.000000"
            ],
            "text/html": [
              "\n",
              "  <div id=\"df-7b0b7854-98fd-4797-bf3e-d4513e00bd76\">\n",
              "    <div class=\"colab-df-container\">\n",
              "      <div>\n",
              "<style scoped>\n",
              "    .dataframe tbody tr th:only-of-type {\n",
              "        vertical-align: middle;\n",
              "    }\n",
              "\n",
              "    .dataframe tbody tr th {\n",
              "        vertical-align: top;\n",
              "    }\n",
              "\n",
              "    .dataframe thead th {\n",
              "        text-align: right;\n",
              "    }\n",
              "</style>\n",
              "<table border=\"1\" class=\"dataframe\">\n",
              "  <thead>\n",
              "    <tr style=\"text-align: right;\">\n",
              "      <th></th>\n",
              "      <th>vals</th>\n",
              "    </tr>\n",
              "  </thead>\n",
              "  <tbody>\n",
              "    <tr>\n",
              "      <th>[CLS]</th>\n",
              "      <td>1.000000</td>\n",
              "    </tr>\n",
              "    <tr>\n",
              "      <th>warned</th>\n",
              "      <td>0.311621</td>\n",
              "    </tr>\n",
              "    <tr>\n",
              "      <th>boulder</th>\n",
              "      <td>0.169494</td>\n",
              "    </tr>\n",
              "    <tr>\n",
              "      <th>evening</th>\n",
              "      <td>0.154094</td>\n",
              "    </tr>\n",
              "    <tr>\n",
              "      <th>gun</th>\n",
              "      <td>0.151842</td>\n",
              "    </tr>\n",
              "    <tr>\n",
              "      <th>day</th>\n",
              "      <td>0.130472</td>\n",
              "    </tr>\n",
              "    <tr>\n",
              "      <th>could</th>\n",
              "      <td>0.126475</td>\n",
              "    </tr>\n",
              "    <tr>\n",
              "      <th>weather</th>\n",
              "      <td>0.124942</td>\n",
              "    </tr>\n",
              "    <tr>\n",
              "      <th>weather</th>\n",
              "      <td>0.120672</td>\n",
              "    </tr>\n",
              "    <tr>\n",
              "      <th>scenario</th>\n",
              "      <td>0.108510</td>\n",
              "    </tr>\n",
              "    <tr>\n",
              "      <th>office</th>\n",
              "      <td>0.092221</td>\n",
              "    </tr>\n",
              "    <tr>\n",
              "      <th>earlier</th>\n",
              "      <td>0.089822</td>\n",
              "    </tr>\n",
              "    <tr>\n",
              "      <th>still</th>\n",
              "      <td>0.086202</td>\n",
              "    </tr>\n",
              "    <tr>\n",
              "      <th>“</th>\n",
              "      <td>0.060281</td>\n",
              "    </tr>\n",
              "    <tr>\n",
              "      <th>throughout</th>\n",
              "      <td>0.059795</td>\n",
              "    </tr>\n",
              "    <tr>\n",
              "      <th>instability</th>\n",
              "      <td>0.059056</td>\n",
              "    </tr>\n",
              "    <tr>\n",
              "      <th>loaded</th>\n",
              "      <td>0.056904</td>\n",
              "    </tr>\n",
              "    <tr>\n",
              "      <th>lead</th>\n",
              "      <td>0.047233</td>\n",
              "    </tr>\n",
              "    <tr>\n",
              "      <th>tremendous</th>\n",
              "      <td>0.041501</td>\n",
              "    </tr>\n",
              "    <tr>\n",
              "      <th>service</th>\n",
              "      <td>0.040619</td>\n",
              "    </tr>\n",
              "    <tr>\n",
              "      <th>severe</th>\n",
              "      <td>0.017367</td>\n",
              "    </tr>\n",
              "    <tr>\n",
              "      <th>”</th>\n",
              "      <td>0.000000</td>\n",
              "    </tr>\n",
              "  </tbody>\n",
              "</table>\n",
              "</div>\n",
              "      <button class=\"colab-df-convert\" onclick=\"convertToInteractive('df-7b0b7854-98fd-4797-bf3e-d4513e00bd76')\"\n",
              "              title=\"Convert this dataframe to an interactive table.\"\n",
              "              style=\"display:none;\">\n",
              "        \n",
              "  <svg xmlns=\"http://www.w3.org/2000/svg\" height=\"24px\"viewBox=\"0 0 24 24\"\n",
              "       width=\"24px\">\n",
              "    <path d=\"M0 0h24v24H0V0z\" fill=\"none\"/>\n",
              "    <path d=\"M18.56 5.44l.94 2.06.94-2.06 2.06-.94-2.06-.94-.94-2.06-.94 2.06-2.06.94zm-11 1L8.5 8.5l.94-2.06 2.06-.94-2.06-.94L8.5 2.5l-.94 2.06-2.06.94zm10 10l.94 2.06.94-2.06 2.06-.94-2.06-.94-.94-2.06-.94 2.06-2.06.94z\"/><path d=\"M17.41 7.96l-1.37-1.37c-.4-.4-.92-.59-1.43-.59-.52 0-1.04.2-1.43.59L10.3 9.45l-7.72 7.72c-.78.78-.78 2.05 0 2.83L4 21.41c.39.39.9.59 1.41.59.51 0 1.02-.2 1.41-.59l7.78-7.78 2.81-2.81c.8-.78.8-2.07 0-2.86zM5.41 20L4 18.59l7.72-7.72 1.47 1.35L5.41 20z\"/>\n",
              "  </svg>\n",
              "      </button>\n",
              "      \n",
              "  <style>\n",
              "    .colab-df-container {\n",
              "      display:flex;\n",
              "      flex-wrap:wrap;\n",
              "      gap: 12px;\n",
              "    }\n",
              "\n",
              "    .colab-df-convert {\n",
              "      background-color: #E8F0FE;\n",
              "      border: none;\n",
              "      border-radius: 50%;\n",
              "      cursor: pointer;\n",
              "      display: none;\n",
              "      fill: #1967D2;\n",
              "      height: 32px;\n",
              "      padding: 0 0 0 0;\n",
              "      width: 32px;\n",
              "    }\n",
              "\n",
              "    .colab-df-convert:hover {\n",
              "      background-color: #E2EBFA;\n",
              "      box-shadow: 0px 1px 2px rgba(60, 64, 67, 0.3), 0px 1px 3px 1px rgba(60, 64, 67, 0.15);\n",
              "      fill: #174EA6;\n",
              "    }\n",
              "\n",
              "    [theme=dark] .colab-df-convert {\n",
              "      background-color: #3B4455;\n",
              "      fill: #D2E3FC;\n",
              "    }\n",
              "\n",
              "    [theme=dark] .colab-df-convert:hover {\n",
              "      background-color: #434B5C;\n",
              "      box-shadow: 0px 1px 3px 1px rgba(0, 0, 0, 0.15);\n",
              "      filter: drop-shadow(0px 1px 2px rgba(0, 0, 0, 0.3));\n",
              "      fill: #FFFFFF;\n",
              "    }\n",
              "  </style>\n",
              "\n",
              "      <script>\n",
              "        const buttonEl =\n",
              "          document.querySelector('#df-7b0b7854-98fd-4797-bf3e-d4513e00bd76 button.colab-df-convert');\n",
              "        buttonEl.style.display =\n",
              "          google.colab.kernel.accessAllowed ? 'block' : 'none';\n",
              "\n",
              "        async function convertToInteractive(key) {\n",
              "          const element = document.querySelector('#df-7b0b7854-98fd-4797-bf3e-d4513e00bd76');\n",
              "          const dataTable =\n",
              "            await google.colab.kernel.invokeFunction('convertToInteractive',\n",
              "                                                     [key], {});\n",
              "          if (!dataTable) return;\n",
              "\n",
              "          const docLinkHtml = 'Like what you see? Visit the ' +\n",
              "            '<a target=\"_blank\" href=https://colab.research.google.com/notebooks/data_table.ipynb>data table notebook</a>'\n",
              "            + ' to learn more about interactive tables.';\n",
              "          element.innerHTML = '';\n",
              "          dataTable['output_type'] = 'display_data';\n",
              "          await google.colab.output.renderOutput(dataTable, element);\n",
              "          const docLink = document.createElement('div');\n",
              "          docLink.innerHTML = docLinkHtml;\n",
              "          element.appendChild(docLink);\n",
              "        }\n",
              "      </script>\n",
              "    </div>\n",
              "  </div>\n",
              "  "
            ]
          },
          "metadata": {},
          "execution_count": 670
        }
      ]
    }
  ]
}